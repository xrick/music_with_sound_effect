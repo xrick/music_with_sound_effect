{
 "cells": [
  {
   "cell_type": "code",
   "execution_count": 18,
   "id": "77d2e766-b2cf-4b50-902d-0817b6ccd52a",
   "metadata": {},
   "outputs": [],
   "source": [
    "from pedalboard import Pedalboard, Reverb, load_plugin\n",
    "from pedalboard.io import AudioFile\n",
    "from mido import Message # not part of Pedalboard, but convenient!\n",
    "# import timeit\n",
    "import time\n",
    "# from memory_profiler import profile\n",
    "import tracemalloc"
   ]
  },
  {
   "cell_type": "code",
   "execution_count": 17,
   "id": "c9c97e45-bd28-42e8-a915-8d617c874367",
   "metadata": {},
   "outputs": [],
   "source": [
    "# !pip install memory_profiler"
   ]
  },
  {
   "cell_type": "code",
   "execution_count": 19,
   "id": "78147abf-4990-400c-ae05-2ba7b16457cb",
   "metadata": {},
   "outputs": [],
   "source": [
    "# Load a VST3 or Audio Unit plugin from a known path on disk:\n",
    "# instrument = load_plugin(\"./VSTs/Magical8BitPlug2.vst3\")\n",
    "@profile\n",
    "def apply_uvi_tape_flanger_effect(src_wav=None, output_wav=None):\n",
    "    effect = load_plugin(\"../../../sound_effects/UVI Tape Flanger.vst3\")\n",
    "    # for e in effect.parameters.items():\n",
    "    #     print(e)\n",
    "    effect.ration = 15;\n",
    "    effect.apply_tape_simulation = True\n",
    "    effect.delay = '12.0 ms';\n",
    "    with AudioFile(src_wav) as f:\n",
    "  # Open an audio file to write to:\n",
    "      with AudioFile(output_wav, 'w', f.samplerate, f.num_channels) as o:\n",
    "         # Read one second of audio at a time, until the file is empty:\n",
    "        while f.tell() < f.frames:\n",
    "          chunk = f.read(f.samplerate)\n",
    "          # Run the audio through our pedalboard:\n",
    "          effected = effect(chunk, f.samplerate, reset=False)\n",
    "          # Write the output to our output file:\n",
    "          o.write(effected)"
   ]
  },
  {
   "cell_type": "code",
   "execution_count": 22,
   "id": "5ca51ed3-413e-4622-8b25-aac0279ed7f4",
   "metadata": {},
   "outputs": [
    {
     "name": "stdout",
     "output_type": "stream",
     "text": [
      "ERROR: Could not find file /var/folders/9q/84hq1ylj3bx3y9790xz07k280000gn/T/ipykernel_98904/849687795.py\n"
     ]
    }
   ],
   "source": [
    "# %timeit apply_uvi_tape_flanger_effect('test02.wav','./output_wav/output_uvi_flanger.wav')\n",
    "# start_time = time.perf_counter()  # Start time measurement\n",
    "apply_uvi_tape_flanger_effect('test02.wav','./output_wav/output_uvi_flanger.wav')\n",
    "# end_time = time.perf_counter()  # End time measurement\n",
    "# elapsed_time = end_time - start_time  # Calculate elapsed time in seconds\n",
    "# print(f\"Elapsed time: {elapsed_time:.6f} seconds\")"
   ]
  },
  {
   "cell_type": "markdown",
   "id": "e416bdf9-0280-4298-b9f1-6e381304c50d",
   "metadata": {},
   "source": [
    "### uvi tape flanger effect\n",
    "- Elapsed time: 2.755284 seconds\n",
    "- Memory needed:"
   ]
  },
  {
   "cell_type": "code",
   "execution_count": null,
   "id": "0282d549-8be2-4234-924c-685d3ef3b6a8",
   "metadata": {},
   "outputs": [],
   "source": []
  },
  {
   "cell_type": "code",
   "execution_count": null,
   "id": "bb0af27b-53b3-453e-9cdd-9f6ff190f7e1",
   "metadata": {},
   "outputs": [],
   "source": []
  },
  {
   "cell_type": "code",
   "execution_count": null,
   "id": "d508a0b8-a5bb-4edf-b164-18bd60d9b5ae",
   "metadata": {},
   "outputs": [],
   "source": []
  },
  {
   "cell_type": "code",
   "execution_count": 5,
   "id": "52226820-f1d5-492a-b692-2d27646f173e",
   "metadata": {},
   "outputs": [],
   "source": [
    "# # Open an audio file for reading, just like a regular file:\n",
    "# with AudioFile('test02.wav') as f:\n",
    "  \n",
    "#   # Open an audio file to write to:\n",
    "#   with AudioFile('output.wav', 'w', f.samplerate, f.num_channels) as o:\n",
    "  \n",
    "#     # Read one second of audio at a time, until the file is empty:\n",
    "#     while f.tell() < f.frames:\n",
    "#       chunk = f.read(f.samplerate)\n",
    "#       # Run the audio through our pedalboard:\n",
    "#       effected = board(chunk, f.samplerate, reset=False)\n",
    "#       # Write the output to our output file:\n",
    "#       o.write(effected)"
   ]
  },
  {
   "cell_type": "code",
   "execution_count": null,
   "id": "97ffa096-220d-4eb8-b80d-3ad9bcd0e3d5",
   "metadata": {},
   "outputs": [],
   "source": []
  }
 ],
 "metadata": {
  "kernelspec": {
   "display_name": "Python 3 (ipykernel)",
   "language": "python",
   "name": "python3"
  },
  "language_info": {
   "codemirror_mode": {
    "name": "ipython",
    "version": 3
   },
   "file_extension": ".py",
   "mimetype": "text/x-python",
   "name": "python",
   "nbconvert_exporter": "python",
   "pygments_lexer": "ipython3",
   "version": "3.10.14"
  }
 },
 "nbformat": 4,
 "nbformat_minor": 5
}

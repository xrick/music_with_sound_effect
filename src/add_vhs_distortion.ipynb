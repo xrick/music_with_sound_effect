{
 "cells": [
  {
   "cell_type": "code",
   "execution_count": 3,
   "id": "30dffc66-1f5b-4fd4-a5f6-20543d31d2c2",
   "metadata": {},
   "outputs": [],
   "source": [
    "import miniaudio\n",
    "import numpy as np"
   ]
  },
  {
   "cell_type": "code",
   "execution_count": 4,
   "id": "e608abcc-332a-45c7-b9e0-87ef9dc907cb",
   "metadata": {},
   "outputs": [],
   "source": [
    "# import IPython"
   ]
  },
  {
   "cell_type": "code",
   "execution_count": 5,
   "id": "b0bec07c-6500-42c0-bc00-08eae68264ca",
   "metadata": {},
   "outputs": [],
   "source": [
    "def add_vhs_distortion(input_file, output_file, noise_lel):\n",
    "    # Decode the input WAV file\n",
    "    audio_data = miniaudio.decode_file(input_file)\n",
    "\n",
    "    # Apply VHS distortion effect\n",
    "    noise_level = noise_lel  # Adjust noise level for distortion\n",
    "    num_samples = len(audio_data.samples)\n",
    "\n",
    "    # Create noise to add to the audio signal\n",
    "    noise = np.random.normal(0, noise_level, num_samples).astype(np.float32)\n",
    "\n",
    "    # Combine original audio with noise\n",
    "    distorted_samples = audio_data.samples + noise\n",
    "\n",
    "    # Ensure samples are within valid range\n",
    "    distorted_samples = np.clip(distorted_samples, -1.0, 1.0)\n",
    "\n",
    "    # Convert distorted samples back to int16 format for WAV writing\n",
    "    distorted_samples_int16 = (distorted_samples * 32767).astype(np.int16)\n",
    "    distorted_sound = miniaudio.DecodedSoundFile('distortion', audio_data.nchannels, audio_data.sample_rate, miniaudio.SampleFormat.SIGNED16, distorted_samples_int16)\n",
    "    miniaudio.wav_write_file(output_file, distorted_sound)\n",
    "    # Write the distorted audio to a new WAV file\n",
    "    # miniaudio.wav_write_file(output_file, distorted_samples_int16.tobytes(), \n",
    "    #                      sample_rate=audio_data.sample_rate, \n",
    "    #                      nchannels=audio_data.nchannels,  # Use nchannels instead of channels\n",
    "    #                      sample_format=miniaudio.SampleFormat.SIGNED16)"
   ]
  },
  {
   "cell_type": "code",
   "execution_count": 6,
   "id": "dc2062d1-541b-4ae6-a731-782e645a2167",
   "metadata": {},
   "outputs": [],
   "source": [
    "def load_wav(file_path):\n",
    "    # Load the WAV file using miniaudio\n",
    "    with open(file_path, 'rb') as f:\n",
    "        wav = miniaudio.decode(f.read())\n",
    "    \n",
    "    return wav\n",
    "\n",
    "def save_wav(file_path, samples, sample_rate, num_channels):\n",
    "    # num_channels = 1;\n",
    "    # Save the processed samples back to a WAV file\n",
    "    wav_data = np.int16(samples * 32767).astype(np.int16)#.tobytes()\n",
    "    distorted_sound = miniaudio.DecodedSoundFile('distortion', num_channels, sample_rate, miniaudio.SampleFormat.SIGNED16, wav_data)\n",
    "    miniaudio.wav_write_file(file_path, distorted_sound)"
   ]
  },
  {
   "cell_type": "code",
   "execution_count": 7,
   "id": "18028402-c40d-4f96-9c09-ba0e385cb18c",
   "metadata": {},
   "outputs": [],
   "source": [
    "def apply_vhs_effect(samples, sample_rate, noise_level):\n",
    "    normalized_samples = samples / np.max(np.abs(samples))\n",
    "    # Add some noise to create distortion\n",
    "    noise = np.random.normal(0, noise_level, len(normalized_samples))\n",
    "    distorted_samples = normalized_samples + noise\n",
    "\n",
    "    # Simple low-pass filter to simulate VHS tape characteristics\n",
    "    # Using a simple moving average for demonstration\n",
    "    window_size = int(sample_rate * 0.1)  # 100ms window\n",
    "    filtered_samples = np.convolve(distorted_samples, np.ones(window_size)/window_size, mode='same')\n",
    "\n",
    "    # Scale back to original range\n",
    "    final_samples = np.clip(filtered_samples * np.max(np.abs(samples)), -1, 1)\n",
    "\n",
    "    return final_samples"
   ]
  },
  {
   "cell_type": "code",
   "execution_count": 14,
   "id": "a7c499a1-725d-4324-a63e-14562dbf1005",
   "metadata": {},
   "outputs": [],
   "source": [
    "def apply_vhs_effect_2(samples, sample_rate, num_channels, noise_level):\n",
    "    print(f\"len of samples:{len(samples)}\")\n",
    "    t = np.arange(len(samples)) / sample_rate\n",
    "    wow = (np.sin(2 * np.pi * 0.5 * t) * 0.001)\n",
    "    flutter = (np.sin(2 * np.pi * 10 * t) * 0.0001)\n",
    "    time_variation = 1 + wow + flutter\n",
    "    print(f\"len of time_variation:{len(time_variation)}\")\n",
    "    new_t = (np.cumsum(time_variation) / sample_rate)\n",
    "    print(f\"len of new_t:{len(new_t)}\")\n",
    "    samples_wow_flutter = np.array([np.interp(t, new_t, samples[:, i]) for i in range(num_channels)]).T\n",
    "    # samples_wow_flutter = np.array([np.interp(t, new_t, samples[:])]).T\n",
    "    # for i in range(len(samples)):\n",
    "    #     samples[i] *= time_variation[i]\n",
    "    # samples = samples.T;\n",
    "\n",
    "    # Clip the audio to prevent overflow\n",
    "    # samples = np.clip(samples, -1, 1)\n",
    "    # print(f\"shape of sample_wow_flitter:{samples_wow_flutter.shape}\")\n",
    "    # print(f\"samples shape:{samples.shape}\")\n",
    "    \n",
    "    # return samples\n",
    "    # # Add noise\n",
    "    # noise = np.random.normal(0, noise_level, samples.shape).astype(np.float16)\n",
    "    # print(f\"noise shape:{noise.shape}\")\n",
    "    # samples_with_noise = samples_wow_flutter + noise\n",
    "    noise = np.random.normal(0, 0.001, len(samples_wow_flutter)).astype(np.float16)\n",
    "    print(f\"shape of noise:{noise.shape}\")\n",
    "    for j in range(len(samples_wow_flutter)):\n",
    "        samples_wow_flutter[j] += noise[j]\n",
    "    # samples_with_noise = samples_wow_flutter + noise\n",
    "    # # Add dropouts\n",
    "    dropout_mask = np.random.random(len(samples)) > 0.001\n",
    "    samples_with_dropouts = samples_wow_flutter * dropout_mask[:, np.newaxis]\n",
    "\n",
    "    # # Clip the audio to prevent overflow\n",
    "    samples_with_dropouts = np.clip(samples_with_dropouts, -1, 1)\n",
    "\n",
    "    return samples_with_dropouts"
   ]
  },
  {
   "cell_type": "code",
   "execution_count": 15,
   "id": "f93bff6d-7797-412b-a126-dcb725979ea1",
   "metadata": {},
   "outputs": [],
   "source": [
    "def run_apply_vhs_effect(input_file, output_file, noise_level):\n",
    "    # Load the WAV file\n",
    "    wav = load_wav(input_file)\n",
    "    # Convert byte data to numpy array\n",
    "    samples = np.frombuffer(wav.samples, dtype=np.int16)\n",
    "    # Apply VHS effect\n",
    "    distorted_samples = apply_vhs_effect_2(samples, wav.sample_rate, 1, noise_level)\n",
    "    # Save the new WAV file\n",
    "    save_wav(output_file, distorted_samples, wav.sample_rate, wav.nchannels)"
   ]
  },
  {
   "cell_type": "code",
   "execution_count": 16,
   "id": "85736e37-77a0-4991-a7cf-e76a14e827ba",
   "metadata": {},
   "outputs": [
    {
     "name": "stdout",
     "output_type": "stream",
     "text": [
      "len of samples:743036\n",
      "len of time_variation:743036\n",
      "len of new_t:743036\n",
      "shape of noise:(743036,)\n"
     ]
    }
   ],
   "source": [
    "# add_vhs_distortion(\"test01.wav\", \"output_distorted_08.wav\", 0.01);\n",
    "run_apply_vhs_effect(\"test02.wav\", \"output_distorted.wav\", 0.001)"
   ]
  },
  {
   "cell_type": "markdown",
   "id": "16766653-5e8f-4277-8657-8e6b46b399e3",
   "metadata": {},
   "source": [
    "### The following codes are not used"
   ]
  },
  {
   "cell_type": "code",
   "execution_count": null,
   "id": "e2a110b2-622b-4bf5-8ee4-886c7fb7c719",
   "metadata": {},
   "outputs": [],
   "source": [
    "# import miniaudio\n",
    "# import numpy as np\n",
    "# import random\n",
    "\n",
    "# def add_vhs_distortion(input_file, output_file):\n",
    "#     # Read the input file\n",
    "#     decoder = miniaudio.decode_file(input_file)\n",
    "#     samples = decoder.samples\n",
    "#     sample_rate = decoder.sample_rate\n",
    "#     num_channels = decoder.nchannels\n",
    "\n",
    "#     # Convert to float32 for processing\n",
    "#     samples = samples.astype(np.float32)\n",
    "\n",
    "#     # Reshape the samples array to separate channels\n",
    "#     samples = samples.reshape(-1, num_channels)\n",
    "\n",
    "#     # Add wow and flutter effect\n",
    "#     t = np.arange(len(samples)) / sample_rate\n",
    "#     wow = np.sin(2 * np.pi * 0.5 * t) * 0.01\n",
    "#     flutter = np.sin(2 * np.pi * 10 * t) * 0.001\n",
    "#     time_variation = 1 + wow + flutter\n",
    "#     new_t = np.cumsum(time_variation) / sample_rate\n",
    "#     samples_wow_flutter = np.array([np.interp(t, new_t, samples[:, i]) for i in range(num_channels)]).T\n",
    "\n",
    "#     # Add noise\n",
    "#     noise = np.random.normal(0, 0.005, samples.shape)\n",
    "#     samples_with_noise = samples_wow_flutter + noise\n",
    "\n",
    "#     # Add dropouts\n",
    "#     dropout_mask = np.random.random(len(samples)) > 0.001\n",
    "#     samples_with_dropouts = samples_with_noise * dropout_mask[:, np.newaxis]\n",
    "\n",
    "#     # Clip the audio to prevent overflow\n",
    "#     samples_with_dropouts = np.clip(samples_with_dropouts, -1, 1)\n",
    "\n",
    "#     # Convert back to int16\n",
    "#     distorted_samples = (samples_with_dropouts * 32767).astype(np.int16)\n",
    "\n",
    "#     # Flatten the array\n",
    "#     distorted_samples = distorted_samples.flatten()\n",
    "\n",
    "#     # Write the output file\n",
    "#     with miniaudio.WAVWriter(output_file, sample_rate, num_channels) as writer:\n",
    "#         writer.write_pcm_frames(distorted_samples)\n",
    "\n",
    "# # Usage\n",
    "# input_file = \"input.wav\"\n",
    "# output_file = \"output_vhs_distorted.wav\"\n",
    "# add_vhs_distortion(input_file, output_file)"
   ]
  }
 ],
 "metadata": {
  "kernelspec": {
   "display_name": "Python 3 (ipykernel)",
   "language": "python",
   "name": "python3"
  },
  "language_info": {
   "codemirror_mode": {
    "name": "ipython",
    "version": 3
   },
   "file_extension": ".py",
   "mimetype": "text/x-python",
   "name": "python",
   "nbconvert_exporter": "python",
   "pygments_lexer": "ipython3",
   "version": "3.10.14"
  }
 },
 "nbformat": 4,
 "nbformat_minor": 5
}
